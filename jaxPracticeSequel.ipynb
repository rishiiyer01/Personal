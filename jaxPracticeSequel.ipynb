{
 "cells": [
  {
   "cell_type": "code",
   "execution_count": 2,
   "id": "cacd8879",
   "metadata": {},
   "outputs": [],
   "source": [
    "#gonna do binary classification est time ~45 min\n",
    "import jax\n",
    "import jax.numpy as jnp\n",
    "from jax import grad, vmap\n"
   ]
  },
  {
   "cell_type": "code",
   "execution_count": 49,
   "id": "20ddfd64",
   "metadata": {},
   "outputs": [
    {
     "data": {
      "image/png": "[encoded data removed]",
      "text/plain": [
       "<Figure size 576x432 with 1 Axes>"
      ]
     },
     "metadata": {
      "needs_background": "light"
     },
     "output_type": "display_data"
    },
    {
     "name": "stdout",
     "output_type": "stream",
     "text": [
      "(1000, 2)\n"
     ]
    }
   ],
   "source": [
    "#generating synthetic dataset, simple mixture of gaussians\n",
    "import numpy as np\n",
    "np.random.seed(0)  # For reproducibility\n",
    "\n",
    "# Generate points for Class 0\n",
    "mean_0 = [-1, -1]\n",
    "cov_0 = [[0.5, 0], [0, 0.5]]  # Diagonal covariance\n",
    "class_0 = np.random.multivariate_normal(mean_0, cov_0, 500)\n",
    "\n",
    "# Generate points for Class 1\n",
    "mean_1 = [1, 1]\n",
    "cov_1 = [[0.5, 0], [0, 0.5]]  # Diagonal covariance\n",
    "class_1 = np.random.multivariate_normal(mean_1, cov_1, 500)\n",
    "\n",
    "# Combine the points\n",
    "X = np.vstack((class_0, class_1))\n",
    "y = np.array([0]*500 + [1]*500)  # Labels\n",
    "\n",
    "# Convert to JAX arrays\n",
    "x_input = jnp.array(X)\n",
    "y_output = jnp.array(y)\n",
    "import matplotlib.pyplot as plt\n",
    "\n",
    "plt.figure(figsize=(8, 6))\n",
    "plt.scatter(X[:500, 0], X[:500, 1], color='red', label='Class 0')\n",
    "plt.scatter(X[500:, 0], X[500:, 1], color='blue', label='Class 1')\n",
    "plt.xlabel('X1')\n",
    "plt.ylabel('X2')\n",
    "plt.title('Synthetic 2D Classification Dataset')\n",
    "plt.legend()\n",
    "plt.show()\n",
    "print(y_output.shape)"
   ]
  },
  {
   "cell_type": "code",
   "execution_count": 90,
   "id": "37ecaaca",
   "metadata": {},
   "outputs": [],
   "source": [
    "#neural network that predicts whether in class 1 or class 2\n",
    "#going to use a simple MLP, 2 layers\n",
    "#we start out with a dimensionality of 2, can apply a matrix of (2x8), then gelu, then (8x2) then softmax\n",
    "from jax.nn.initializers import glorot_uniform\n",
    "import jax.random as random\n",
    "class nn():\n",
    "    def __init__(self,embed_dim):\n",
    "        self.embed_dim=embed_dim\n",
    "        self.initializer=glorot_uniform()\n",
    "        \n",
    "    def initialization(self,x):\n",
    "        dim=x.shape[0]\n",
    "        \n",
    "        A=self.initializer(random.PRNGKey(1), (self.embed_dim, dim), jnp.float32)\n",
    "        c=self.initializer(random.PRNGKey(1),(self.embed_dim,1),jnp.float32)\n",
    "        d=self.initializer(random.PRNGKey(1),(dim,1),jnp.float32)\n",
    "        B=self.initializer(random.PRNGKey(1),(dim,self.embed_dim),jnp.float32)\n",
    "        return(A,B,c,d)\n",
    "    \n",
    "    def forward(self,x,params):\n",
    "        A,B,c,d=params\n",
    "        x1=A@x.reshape(2,1)+c\n",
    "        x2=jax.nn.gelu(x1)\n",
    "        x3=B@x2+d\n",
    "        out=jax.nn.softmax(x3)\n",
    "        return out\n",
    "    def loss(self,params,x,y):\n",
    "        #cross entropy\n",
    "        logits=self.forward(x,params)\n",
    "        labels=y\n",
    "        log_p = jax.nn.log_sigmoid(logits)\n",
    "        log_not_p = jax.nn.log_sigmoid(-logits)\n",
    "        return -labels * log_p - (1. - labels) * log_not_p\n",
    "        \n",
    "    \n",
    "    \n",
    "    def update_params(self,x,params):\n",
    "        gradients=grad(self.loss)(params,x,y)\n",
    "        gradients_A,gradients_B,gradients_c,gradients_d=gradients\n",
    "        \n",
    "        \n",
    "        \n",
    "        \n",
    "        return gradients_A.shape\n",
    "    \n",
    "  \n",
    "    \n",
    "    \n",
    "        "
   ]
  },
  {
   "cell_type": "code",
   "execution_count": 92,
   "id": "6e1df5a2",
   "metadata": {
    "scrolled": true
   },
   "outputs": [
    {
     "ename": "TypeError",
     "evalue": "Gradient only defined for scalar-output functions. Output had shape: (2, 1000).",
     "output_type": "error",
     "traceback": [
      "\u001b[0;31m---------------------------------------------------------------------------\u001b[0m",
      "\u001b[0;31mTypeError\u001b[0m                                 Traceback (most recent call last)",
      "Input \u001b[0;32mIn [92]\u001b[0m, in \u001b[0;36m<cell line: 6>\u001b[0;34m()\u001b[0m\n\u001b[1;32m      3\u001b[0m params\u001b[38;5;241m=\u001b[39mnetwork\u001b[38;5;241m.\u001b[39minitialization(x)\n\u001b[1;32m      4\u001b[0m out\u001b[38;5;241m=\u001b[39mnetwork\u001b[38;5;241m.\u001b[39mforward(x\u001b[38;5;241m.\u001b[39mT,params)\n\u001b[0;32m----> 6\u001b[0m rern\u001b[38;5;241m=\u001b[39m\u001b[43mnetwork\u001b[49m\u001b[38;5;241;43m.\u001b[39;49m\u001b[43mupdate_params\u001b[49m\u001b[43m(\u001b[49m\u001b[43mx\u001b[49m\u001b[43m,\u001b[49m\u001b[43mparams\u001b[49m\u001b[43m)\u001b[49m\n",
      "Input \u001b[0;32mIn [90]\u001b[0m, in \u001b[0;36mnn.update_params\u001b[0;34m(self, x, params)\u001b[0m\n\u001b[1;32m     37\u001b[0m \u001b[38;5;28;01mdef\u001b[39;00m \u001b[38;5;21mupdate_params\u001b[39m(\u001b[38;5;28mself\u001b[39m,x,params):\n\u001b[0;32m---> 38\u001b[0m     gradients\u001b[38;5;241m=\u001b[39m\u001b[43mgrad\u001b[49m\u001b[43m(\u001b[49m\u001b[38;5;28;43mself\u001b[39;49m\u001b[38;5;241;43m.\u001b[39;49m\u001b[43mloss\u001b[49m\u001b[43m)\u001b[49m\u001b[43m(\u001b[49m\u001b[43mparams\u001b[49m\u001b[43m,\u001b[49m\u001b[43mx\u001b[49m\u001b[43m,\u001b[49m\u001b[43my\u001b[49m\u001b[43m)\u001b[49m\n\u001b[1;32m     39\u001b[0m     gradients_A,gradients_B,gradients_c,gradients_d\u001b[38;5;241m=\u001b[39mgradients\n\u001b[1;32m     44\u001b[0m     \u001b[38;5;28;01mreturn\u001b[39;00m gradients_A\u001b[38;5;241m.\u001b[39mshape\n",
      "    \u001b[0;31m[... skipping hidden 4 frame]\u001b[0m\n",
      "File \u001b[0;32m/Library/Frameworks/Python.framework/Versions/3.9/lib/python3.9/site-packages/jax/_src/api.py:759\u001b[0m, in \u001b[0;36m_check_scalar\u001b[0;34m(x)\u001b[0m\n\u001b[1;32m    757\u001b[0m \u001b[38;5;28;01mif\u001b[39;00m \u001b[38;5;28misinstance\u001b[39m(aval, ShapedArray):\n\u001b[1;32m    758\u001b[0m   \u001b[38;5;28;01mif\u001b[39;00m aval\u001b[38;5;241m.\u001b[39mshape \u001b[38;5;241m!=\u001b[39m ():\n\u001b[0;32m--> 759\u001b[0m     \u001b[38;5;28;01mraise\u001b[39;00m \u001b[38;5;167;01mTypeError\u001b[39;00m(msg(\u001b[38;5;124mf\u001b[39m\u001b[38;5;124m\"\u001b[39m\u001b[38;5;124mhad shape: \u001b[39m\u001b[38;5;132;01m{\u001b[39;00maval\u001b[38;5;241m.\u001b[39mshape\u001b[38;5;132;01m}\u001b[39;00m\u001b[38;5;124m\"\u001b[39m))\n\u001b[1;32m    760\u001b[0m \u001b[38;5;28;01melse\u001b[39;00m:\n\u001b[1;32m    761\u001b[0m   \u001b[38;5;28;01mraise\u001b[39;00m \u001b[38;5;167;01mTypeError\u001b[39;00m(msg(\u001b[38;5;124mf\u001b[39m\u001b[38;5;124m\"\u001b[39m\u001b[38;5;124mhad abstract value \u001b[39m\u001b[38;5;132;01m{\u001b[39;00maval\u001b[38;5;132;01m}\u001b[39;00m\u001b[38;5;124m\"\u001b[39m))\n",
      "\u001b[0;31mTypeError\u001b[0m: Gradient only defined for scalar-output functions. Output had shape: (2, 1000)."
     ]
    }
   ],
   "source": [
    "network=nn(8)\n",
    "x=jnp.array([0,1])\n",
    "params=network.initialization(x)\n",
    "out=network.forward(x.T,params)\n",
    "\n",
    "rern=network.update_params(x,params)"
   ]
  },
  {
   "cell_type": "code",
   "execution_count": null,
   "id": "9aff1bd4",
   "metadata": {},
   "outputs": [],
   "source": []
  },
  {
   "cell_type": "code",
   "execution_count": null,
   "id": "7f04af45",
   "metadata": {},
   "outputs": [],
   "source": []
  }
 ],
 "metadata": {
  "kernelspec": {
   "display_name": "Python 3 (ipykernel)",
   "language": "python",
   "name": "python3"
  },
  "language_info": {
   "codemirror_mode": {
    "name": "ipython",
    "version": 3
   },
   "file_extension": ".py",
   "mimetype": "text/x-python",
   "name": "python",
   "nbconvert_exporter": "python",
   "pygments_lexer": "ipython3",
   "version": "3.9.7"
  }
 },
 "nbformat": 4,
 "nbformat_minor": 5
}
