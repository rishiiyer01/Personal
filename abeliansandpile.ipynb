{
 "cells": [
  {
   "cell_type": "code",
   "execution_count": 1,
   "id": "d0890b7a-2700-4a7b-bd01-c5c3f3248f49",
   "metadata": {},
   "outputs": [],
   "source": [
    "import numpy as np \n",
    "import pandas as pd\n",
    "import matplotlib.pyplot as plt\n",
    "%matplotlib inline\n"
   ]
  },
  {
   "cell_type": "code",
   "execution_count": 2,
   "id": "8a58f0a0-3c50-479a-998c-c3ac1d6af19b",
   "metadata": {},
   "outputs": [
    {
     "ename": "KeyboardInterrupt",
     "evalue": "",
     "output_type": "error",
     "traceback": [
      "\u001b[0;31m---------------------------------------------------------------------------\u001b[0m",
      "\u001b[0;31mKeyboardInterrupt\u001b[0m                         Traceback (most recent call last)",
      "Input \u001b[0;32mIn [2]\u001b[0m, in \u001b[0;36m<cell line: 11>\u001b[0;34m()\u001b[0m\n\u001b[1;32m     12\u001b[0m sandGrid[\u001b[38;5;241m250\u001b[39m,\u001b[38;5;241m250\u001b[39m]\u001b[38;5;241m=\u001b[39msandGrid[\u001b[38;5;241m250\u001b[39m,\u001b[38;5;241m250\u001b[39m]\u001b[38;5;241m+\u001b[39m\u001b[38;5;241m1\u001b[39m\n\u001b[1;32m     13\u001b[0m \u001b[38;5;28;01mwhile\u001b[39;00m np\u001b[38;5;241m.\u001b[39many(sandGrid \u001b[38;5;241m>\u001b[39m\u001b[38;5;241m=\u001b[39m\u001b[38;5;241m4\u001b[39m):\n\u001b[0;32m---> 14\u001b[0m     indexvec\u001b[38;5;241m=\u001b[39m\u001b[43mnp\u001b[49m\u001b[38;5;241;43m.\u001b[39;49m\u001b[43mwhere\u001b[49m\u001b[43m(\u001b[49m\u001b[43msandGrid\u001b[49m\u001b[38;5;241;43m>\u001b[39;49m\u001b[38;5;241;43m=\u001b[39;49m\u001b[38;5;241;43m4\u001b[39;49m\u001b[43m)\u001b[49m\n\u001b[1;32m     15\u001b[0m     sel_ind \u001b[38;5;241m=\u001b[39m np\u001b[38;5;241m.\u001b[39mrandom\u001b[38;5;241m.\u001b[39mchoice(np\u001b[38;5;241m.\u001b[39marange(\u001b[38;5;28mlen\u001b[39m(indexvec[\u001b[38;5;241m0\u001b[39m])))\n\u001b[1;32m     16\u001b[0m     i,j \u001b[38;5;241m=\u001b[39m (indexvec[\u001b[38;5;241m0\u001b[39m][sel_ind], indexvec[\u001b[38;5;241m1\u001b[39m][sel_ind])\n",
      "File \u001b[0;32m<__array_function__ internals>:5\u001b[0m, in \u001b[0;36mwhere\u001b[0;34m(*args, **kwargs)\u001b[0m\n",
      "\u001b[0;31mKeyboardInterrupt\u001b[0m: "
     ]
    },
    {
     "data": {
      "image/png": "[encoded data removed]",
      "text/plain": [
       "<Figure size 640x480 with 1 Axes>"
      ]
     },
     "metadata": {},
     "output_type": "display_data"
    }
   ],
   "source": [
    "n=500\n",
    "def abelianInit(n):\n",
    "    sandGrid=np.zeros((n,n))\n",
    "    sandGrid=sandGrid+3\n",
    "    #np.random.randint(5,size=(n,n))\n",
    "    return(sandGrid)\n",
    "sandGrid=abelianInit(n)\n",
    "plt.figure(1)\n",
    "plt.imshow(sandGrid, cmap='magma')\n",
    "\n",
    "for k in range(0,10000):\n",
    "    sandGrid[250,250]=sandGrid[250,250]+1\n",
    "    while np.any(sandGrid >=4):\n",
    "        indexvec=np.where(sandGrid>=4)\n",
    "        sel_ind = np.random.choice(np.arange(len(indexvec[0])))\n",
    "        i,j = (indexvec[0][sel_ind], indexvec[1][sel_ind])\n",
    "        sandGrid[i,j]=sandGrid[i,j]-4\n",
    "        if i>0:\n",
    "            sandGrid[i-1,j]=sandGrid[i-1,j]+1\n",
    "        if j>0:\n",
    "            sandGrid[i,j-1]=sandGrid[i,j-1]+1\n",
    "        if i<(n-1):\n",
    "            sandGrid[i+1,j]=sandGrid[i+1,j]+1\n",
    "        if j<(n-1):\n",
    "            sandGrid[i,j+1]=sandGrid[i,j+1]+1\n",
    "plt.figure(2)   \n",
    "plt.imshow(sandGrid, cmap='spring')\n",
    "\n",
    "\n",
    " \n",
    "       \n",
    "\n",
    "\n",
    "\n",
    "    \n"
   ]
  },
  {
   "cell_type": "code",
   "execution_count": null,
   "id": "4de0aa53-dfd9-4b8d-8012-1c4e582dcec0",
   "metadata": {},
   "outputs": [],
   "source": []
  },
  {
   "cell_type": "code",
   "execution_count": null,
   "id": "6fda4a5d-baf3-41d9-957d-464f34f3dc8f",
   "metadata": {},
   "outputs": [],
   "source": []
  },
  {
   "cell_type": "code",
   "execution_count": null,
   "id": "38a763b5-d839-4039-a836-e7fd4509f227",
   "metadata": {},
   "outputs": [],
   "source": []
  },
  {
   "cell_type": "code",
   "execution_count": null,
   "id": "1b7d3ff4-7e21-49bb-ad5d-564710131055",
   "metadata": {},
   "outputs": [],
   "source": []
  },
  {
   "cell_type": "code",
   "execution_count": null,
   "id": "b58ff07b-9256-46cd-a248-f72ea7287efd",
   "metadata": {},
   "outputs": [],
   "source": []
  },
  {
   "cell_type": "code",
   "execution_count": null,
   "id": "7c78afd2-b363-48fb-8696-3ccf72a37a0d",
   "metadata": {},
   "outputs": [],
   "source": []
  }
 ],
 "metadata": {
  "kernelspec": {
   "display_name": "Python 3 (ipykernel)",
   "language": "python",
   "name": "python3"
  },
  "language_info": {
   "codemirror_mode": {
    "name": "ipython",
    "version": 3
   },
   "file_extension": ".py",
   "mimetype": "text/x-python",
   "name": "python",
   "nbconvert_exporter": "python",
   "pygments_lexer": "ipython3",
   "version": "3.10.4"
  }
 },
 "nbformat": 4,
 "nbformat_minor": 5
}
