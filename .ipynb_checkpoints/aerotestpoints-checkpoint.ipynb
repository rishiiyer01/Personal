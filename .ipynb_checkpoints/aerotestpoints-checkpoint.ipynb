{
 "cells": [
  {
   "cell_type": "code",
   "execution_count": 3,
   "id": "15dc8146",
   "metadata": {},
   "outputs": [
    {
     "ename": "ValueError",
     "evalue": "operands could not be broadcast together with shapes (16,) (17,) ",
     "output_type": "error",
     "traceback": [
      "\u001b[0;31m---------------------------------------------------------------------------\u001b[0m",
      "\u001b[0;31mValueError\u001b[0m                                Traceback (most recent call last)",
      "Cell \u001b[0;32mIn[3], line 10\u001b[0m\n\u001b[1;32m      8\u001b[0m ycirc \u001b[38;5;241m=\u001b[39m np\u001b[38;5;241m.\u001b[39msin(theta_rad)\n\u001b[1;32m      9\u001b[0m radj\u001b[38;5;241m=\u001b[39m[\u001b[38;5;241m0.05\u001b[39m\u001b[38;5;241m+\u001b[39m\u001b[38;5;241m0.1\u001b[39m\u001b[38;5;241m*\u001b[39mnp\u001b[38;5;241m.\u001b[39mcos(np\u001b[38;5;241m.\u001b[39mpi\u001b[38;5;241m/\u001b[39m\u001b[38;5;241m4\u001b[39m),\u001b[38;5;241m0.1\u001b[39m,\u001b[38;5;241m0.05\u001b[39m\u001b[38;5;241m+\u001b[39m\u001b[38;5;241m0.05\u001b[39m\u001b[38;5;241m/\u001b[39mnp\u001b[38;5;241m.\u001b[39msin(np\u001b[38;5;241m.\u001b[39mpi\u001b[38;5;241m/\u001b[39m\u001b[38;5;241m4\u001b[39m),\u001b[38;5;241m0.1\u001b[39m,\u001b[38;5;241m0.05\u001b[39m\u001b[38;5;241m+\u001b[39m\u001b[38;5;241m0.1\u001b[39m\u001b[38;5;241m*\u001b[39mnp\u001b[38;5;241m.\u001b[39mcos(np\u001b[38;5;241m.\u001b[39mpi\u001b[38;5;241m/\u001b[39m\u001b[38;5;241m4\u001b[39m),\u001b[38;5;241m0.1\u001b[39m,\u001b[38;5;241m0.05\u001b[39m\u001b[38;5;241m+\u001b[39m\u001b[38;5;241m0.05\u001b[39m\u001b[38;5;241m/\u001b[39mnp\u001b[38;5;241m.\u001b[39msin(np\u001b[38;5;241m.\u001b[39mpi\u001b[38;5;241m/\u001b[39m\u001b[38;5;241m4\u001b[39m),\u001b[38;5;241m0.1\u001b[39m,\u001b[38;5;241m0.05\u001b[39m\u001b[38;5;241m+\u001b[39m\u001b[38;5;241m0.1\u001b[39m\u001b[38;5;241m*\u001b[39mnp\u001b[38;5;241m.\u001b[39mcos(np\u001b[38;5;241m.\u001b[39mpi\u001b[38;5;241m/\u001b[39m\u001b[38;5;241m4\u001b[39m),\u001b[38;5;241m0.1\u001b[39m,\u001b[38;5;241m0.05\u001b[39m\u001b[38;5;241m+\u001b[39m\u001b[38;5;241m0.05\u001b[39m\u001b[38;5;241m/\u001b[39mnp\u001b[38;5;241m.\u001b[39msin(np\u001b[38;5;241m.\u001b[39mpi\u001b[38;5;241m/\u001b[39m\u001b[38;5;241m4\u001b[39m),\u001b[38;5;241m0.1\u001b[39m,\u001b[38;5;241m0.05\u001b[39m\u001b[38;5;241m+\u001b[39m\u001b[38;5;241m0.1\u001b[39m\u001b[38;5;241m*\u001b[39mnp\u001b[38;5;241m.\u001b[39mcos(np\u001b[38;5;241m.\u001b[39mpi\u001b[38;5;241m/\u001b[39m\u001b[38;5;241m4\u001b[39m),\u001b[38;5;241m0.1\u001b[39m,\u001b[38;5;241m0.05\u001b[39m\u001b[38;5;241m+\u001b[39m\u001b[38;5;241m0.05\u001b[39m\u001b[38;5;241m/\u001b[39mnp\u001b[38;5;241m.\u001b[39msin(np\u001b[38;5;241m.\u001b[39mpi\u001b[38;5;241m/\u001b[39m\u001b[38;5;241m4\u001b[39m),\u001b[38;5;241m0.1\u001b[39m]\n\u001b[0;32m---> 10\u001b[0m xoct\u001b[38;5;241m=\u001b[39m\u001b[43mradj\u001b[49m\u001b[38;5;241;43m*\u001b[39;49m\u001b[43mxcirc\u001b[49m\n\u001b[1;32m     11\u001b[0m plt\u001b[38;5;241m.\u001b[39mplot(xoct, yoct, \u001b[38;5;124m'\u001b[39m\u001b[38;5;124m-\u001b[39m\u001b[38;5;124m'\u001b[39m)  \u001b[38;5;66;03m# 'o' specifies that we want to plot points\u001b[39;00m\n\u001b[1;32m     12\u001b[0m plt\u001b[38;5;241m.\u001b[39mxlabel(\u001b[38;5;124m'\u001b[39m\u001b[38;5;124mX-axis\u001b[39m\u001b[38;5;124m'\u001b[39m)\n",
      "\u001b[0;31mValueError\u001b[0m: operands could not be broadcast together with shapes (16,) (17,) "
     ]
    }
   ],
   "source": [
    "import numpy as np\n",
    "import matplotlib.pyplot as plt\n",
    "\n",
    "theta = np.array([0, 30, 45, 60, 90, 120, 135, 150, 180, 210, 225, 240, 270, 300, 315, 330, 360])\n",
    "theta_rad = np.radians(theta)  # Convert degrees to radians\n",
    "\n",
    "xcirc = np.cos(theta_rad)\n",
    "ycirc = np.sin(theta_rad)\n",
    "radj=[0.05+0.1*np.cos(np.pi/4),0.1,0.05+0.05/np.sin(np.pi/4),0.1,0.05+0.1*np.cos(np.pi/4),0.1,0.05+0.05/np.sin(np.pi/4),0.1,0.05+0.1*np.cos(np.pi/4),0.1,0.05+0.05/np.sin(np.pi/4),0.1,0.05+0.1*np.cos(np.pi/4),0.1,0.05+0.05/np.sin(np.pi/4)]\n",
    "xoct=radj*xcirc\n",
    "plt.plot(xoct, yoct, '-')  # 'o' specifies that we want to plot points\n",
    "plt.xlabel('X-axis')\n",
    "plt.ylabel('Y-axis')\n",
    "plt.title('Points on a Unit Circle')\n",
    "plt.grid(True)\n",
    "plt.gca().set_aspect('equal', adjustable='box')  # To make x and y axes equal\n",
    "plt.show()"
   ]
  },
  {
   "cell_type": "code",
   "execution_count": null,
   "id": "fc565fa7",
   "metadata": {},
   "outputs": [],
   "source": []
  }
 ],
 "metadata": {
  "kernelspec": {
   "display_name": "Python 3 (ipykernel)",
   "language": "python",
   "name": "python3"
  },
  "language_info": {
   "codemirror_mode": {
    "name": "ipython",
    "version": 3
   },
   "file_extension": ".py",
   "mimetype": "text/x-python",
   "name": "python",
   "nbconvert_exporter": "python",
   "pygments_lexer": "ipython3",
   "version": "3.9.12"
  }
 },
 "nbformat": 4,
 "nbformat_minor": 5
}
