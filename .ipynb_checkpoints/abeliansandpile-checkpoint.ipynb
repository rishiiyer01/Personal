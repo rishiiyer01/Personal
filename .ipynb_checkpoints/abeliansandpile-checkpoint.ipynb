{
 "cells": [
  {
   "cell_type": "code",
   "execution_count": 1,
   "id": "d0890b7a-2700-4a7b-bd01-c5c3f3248f49",
   "metadata": {},
   "outputs": [],
   "source": [
    "import numpy as np \n",
    "import matplotlib.pyplot as plt\n",
    "%matplotlib inline\n",
    "from matplotlib.animation import FuncAnimation\n",
    "from IPython.display import HTML"
   ]
  },
  {
   "cell_type": "code",
   "execution_count": 2,
   "id": "8a58f0a0-3c50-479a-998c-c3ac1d6af19b",
   "metadata": {},
   "outputs": [],
   "source": [
    "n = 50\n",
    "sandGrid = np.zeros((n, n))\n",
    "sandGrid += 3\n",
    "grid_states = [sandGrid.copy()]\n",
    "\n",
    "for k in range(0, 250):\n",
    "    sandGrid[25, 25] += 1\n",
    "    while np.any(sandGrid >= 4):\n",
    "        indexvec = np.where(sandGrid >= 4)\n",
    "        sel_ind = np.random.choice(np.arange(len(indexvec[0])))\n",
    "        i, j = (indexvec[0][sel_ind], indexvec[1][sel_ind])\n",
    "        sandGrid[i, j] -= 4\n",
    "        if i > 0:\n",
    "            sandGrid[i - 1, j] += 1\n",
    "        if j > 0:\n",
    "            sandGrid[i, j - 1] += 1\n",
    "        if i < (n - 1):\n",
    "            sandGrid[i + 1, j] += 1\n",
    "        if j < (n - 1):\n",
    "            sandGrid[i, j + 1] += 1\n",
    "        grid_states.append(sandGrid.copy())\n",
    "\n",
    " \n",
    "       \n",
    "\n",
    "\n",
    "\n",
    "    \n"
   ]
  },
  {
   "cell_type": "code",
   "execution_count": null,
   "id": "7e6dce3a",
   "metadata": {},
   "outputs": [],
   "source": [
    "def update(frame):\n",
    "    im.set_array(grid_states[frame])\n",
    "    return im,\n",
    "\n",
    "fig, ax = plt.subplots()\n",
    "im = ax.imshow(grid_states[0], cmap='magma')\n",
    "import matplotlib\n",
    "matplotlib.rcParams['animation.embed_limit'] = 300  # in MB\n",
    "ani = FuncAnimation(fig, update, frames=len(grid_states), interval=50, blit=False)\n",
    "\n",
    "from matplotlib.animation import PillowWriter\n",
    "\n",
    "writer = PillowWriter(fps=20)\n",
    "ani.save('sandpile_animation.mp4', writer=writer)\n",
    " "
   ]
  },
  {
   "cell_type": "code",
   "execution_count": null,
   "id": "4de0aa53-dfd9-4b8d-8012-1c4e582dcec0",
   "metadata": {},
   "outputs": [],
   "source": [
    "\n",
    "print(sandGrid)"
   ]
  },
  {
   "cell_type": "code",
   "execution_count": null,
   "id": "e5acfdfe",
   "metadata": {},
   "outputs": [],
   "source": []
  },
  {
   "cell_type": "code",
   "execution_count": null,
   "id": "6fda4a5d-baf3-41d9-957d-464f34f3dc8f",
   "metadata": {},
   "outputs": [],
   "source": []
  },
  {
   "cell_type": "code",
   "execution_count": null,
   "id": "38a763b5-d839-4039-a836-e7fd4509f227",
   "metadata": {},
   "outputs": [],
   "source": []
  },
  {
   "cell_type": "code",
   "execution_count": null,
   "id": "1b7d3ff4-7e21-49bb-ad5d-564710131055",
   "metadata": {},
   "outputs": [],
   "source": []
  },
  {
   "cell_type": "code",
   "execution_count": null,
   "id": "b58ff07b-9256-46cd-a248-f72ea7287efd",
   "metadata": {},
   "outputs": [],
   "source": []
  },
  {
   "cell_type": "code",
   "execution_count": null,
   "id": "7c78afd2-b363-48fb-8696-3ccf72a37a0d",
   "metadata": {},
   "outputs": [],
   "source": []
  }
 ],
 "metadata": {
  "kernelspec": {
   "display_name": "Python 3 (ipykernel)",
   "language": "python",
   "name": "python3"
  },
  "language_info": {
   "codemirror_mode": {
    "name": "ipython",
    "version": 3
   },
   "file_extension": ".py",
   "mimetype": "text/x-python",
   "name": "python",
   "nbconvert_exporter": "python",
   "pygments_lexer": "ipython3",
   "version": "3.9.12"
  },
  "vscode": {
   "interpreter": {
    "hash": "fc2b483fa01c45959fea4d240170468e3dde01bb21d0d30d7c50614ea1c27024"
   }
  }
 },
 "nbformat": 4,
 "nbformat_minor": 5
}
