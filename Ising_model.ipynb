{
 "cells": [
  {
   "cell_type": "code",
   "execution_count": 147,
   "id": "4c1b5f7b",
   "metadata": {},
   "outputs": [],
   "source": [
    "##ISING MODEL\n",
    "import numpy as np\n",
    "#initialize grid\n",
    "nx=25\n",
    "ny=25\n",
    "spins = 2 * np.random.randint(2, size=(nx, ny)) - 1\n",
    "#Energy is the outer product of the spins on the grid, which can be either 0 or 1\n",
    "#for this case (traditional) we are constraining the interactions to be nearest neighbors only\n",
    "J=1\n",
    "def energy(spins,J):\n",
    "    E=-J*np.sum(np.roll(spins,1,axis=0)*spins+np.roll(spins,-1,axis=0)*spins+np.roll(spins,1,axis=1)*spins+np.roll(spins,-1,axis=1)*spins)\n",
    "    return E\n",
    "def randomflip(spins,J,nx,ny):\n",
    "    previous_E=energy(spins,J)\n",
    "    i1=np.random.choice(np.arange(nx))\n",
    "    i2=np.random.choice(np.arange(ny))\n",
    "    if spins[i1,i2]==-1:\n",
    "        spins[i1,i2]=1\n",
    "    else:\n",
    "        spins[i1,i2]=-1\n",
    "    dE=energy(spins,J)-previous_E\n",
    "    return dE,spins\n",
    "def metropolis(spins,J,nx,ny):\n",
    "    dE,spins1=randomflip(spins,J,nx,ny)\n",
    "    T=10 #K\n",
    "    if dE>0:\n",
    "        boltzmann=np.exp(-dE/T)\n",
    "        #print(boltzmann)\n",
    "        flip=np.random.choice([1,0],p=[boltzmann,1-boltzmann])\n",
    "        if flip==True:\n",
    "            spins=spins1\n",
    "    return dE,spins\n",
    "        \n",
    "            "
   ]
  },
  {
   "cell_type": "code",
   "execution_count": 149,
   "id": "c18cf7d8",
   "metadata": {},
   "outputs": [
    {
     "name": "stderr",
     "output_type": "stream",
     "text": [
      "MovieWriter ffmpeg unavailable; using Pillow instead.\n"
     ]
    },
    {
     "data": {
      "image/png": "[encoded data removed]",
      "text/plain": [
       "<Figure size 432x288 with 1 Axes>"
      ]
     },
     "metadata": {
      "needs_background": "light"
     },
     "output_type": "display_data"
    }
   ],
   "source": [
    "import numpy as np\n",
    "import matplotlib.pyplot as plt\n",
    "from matplotlib.animation import FuncAnimation\n",
    "\n",
    "# Your existing Ising model code here (initialization, energy function, metropolis, etc.)\n",
    "\n",
    "# Set up the plot\n",
    "fig, ax = plt.subplots()\n",
    "im = ax.imshow(spins, cmap='gist_yarg', animated=True)\n",
    "\n",
    "# Update function for animation\n",
    "def update(*args):\n",
    "    global spins\n",
    "    dE, spins = metropolis(spins, J, nx, ny)\n",
    "    im.set_array(spins)\n",
    "    return im,\n",
    "\n",
    "# Create animation\n",
    "ani = FuncAnimation(fig, update, frames=1000, interval=5, blit=True)\n",
    "\n",
    "# Show the animation\n",
    "#plt.show()\n",
    "\n",
    "# Optionally, save the animation\n",
    "ani.save('ising_model_simulation.gif',dpi=300)\n",
    "\n"
   ]
  },
  {
   "cell_type": "code",
   "execution_count": null,
   "id": "3419b334",
   "metadata": {},
   "outputs": [],
   "source": []
  },
  {
   "cell_type": "code",
   "execution_count": null,
   "id": "559e10f5",
   "metadata": {},
   "outputs": [],
   "source": []
  },
  {
   "cell_type": "code",
   "execution_count": null,
   "id": "6a4cfdc8",
   "metadata": {},
   "outputs": [],
   "source": []
  }
 ],
 "metadata": {
  "kernelspec": {
   "display_name": "Python 3 (ipykernel)",
   "language": "python",
   "name": "python3"
  },
  "language_info": {
   "codemirror_mode": {
    "name": "ipython",
    "version": 3
   },
   "file_extension": ".py",
   "mimetype": "text/x-python",
   "name": "python",
   "nbconvert_exporter": "python",
   "pygments_lexer": "ipython3",
   "version": "3.9.7"
  }
 },
 "nbformat": 4,
 "nbformat_minor": 5
}
