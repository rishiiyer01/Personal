{
 "cells": [
  {
   "cell_type": "code",
   "execution_count": 1,
   "metadata": {},
   "outputs": [
    {
     "name": "stdout",
     "output_type": "stream",
     "text": [
      "0.00.00.00.01.01.00.00.00.00.0\n",
      "0.00.00.01.00.00.01.00.00.00.0\n",
      "1.01.01.01.01.01.01.01.00.00.0\n",
      "0.01.01.01.01.01.01.01.01.00.0\n",
      "1.00.01.01.01.01.01.01.01.01.0\n",
      "1.00.00.01.01.01.01.01.01.01.0\n",
      "0.01.00.00.01.01.01.01.01.01.0\n",
      "0.00.01.00.00.00.00.01.00.00.0\n",
      "0.00.00.01.00.00.01.00.00.00.0\n",
      "0.00.00.00.01.01.00.00.00.00.0\n"
     ]
    }
   ],
   "source": [
    "\n"
   ]
  }
 ],
 "metadata": {
  "kernelspec": {
   "display_name": "Python 3",
   "language": "python",
   "name": "python3"
  },
  "language_info": {
   "codemirror_mode": {
    "name": "ipython",
    "version": 3
   },
   "file_extension": ".py",
   "mimetype": "text/x-python",
   "name": "python",
   "nbconvert_exporter": "python",
   "pygments_lexer": "ipython3",
   "version": "3.9.7"
  },
  "orig_nbformat": 4,
  "vscode": {
   "interpreter": {
    "hash": "aee8b7b246df8f9039afb4144a1f6fd8d2ca17a180786b69acc140d282b71a49"
   }
  }
 },
 "nbformat": 4,
 "nbformat_minor": 2
}
