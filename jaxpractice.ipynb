{
 "cells": [
  {
   "cell_type": "code",
   "execution_count": 3,
   "id": "b1308820",
   "metadata": {
    "scrolled": true
   },
   "outputs": [],
   "source": [
    "import jax\n",
    "import jax.numpy as jnp\n",
    "from jax import grad, vmap, jit"
   ]
  },
  {
   "cell_type": "code",
   "execution_count": 16,
   "id": "6590734f",
   "metadata": {},
   "outputs": [],
   "source": [
    "class particleSim():\n",
    "    def __init__(self,xsize,ysize,v,m,pos,dt):\n",
    "        \n",
    "        self.xgrid,self.ygrid=self.grid_init(xsize,ysize)\n",
    "        self.x,self.y=pos\n",
    "        self.u,self.v=v\n",
    "        self.dt=dt\n",
    "    def grid_init(self,xsize,ysize):\n",
    "        x=jnp.linspace(0,1,xsize)\n",
    "        y=jnp.linspace(0,1,ysize)\n",
    "        xgrid,ygrid=jnp.meshgrid(x,y)\n",
    "        return(xgrid,ygrid)\n",
    "    def potential(self,x,y):\n",
    "        #we are going to use a gaussian well in the middle of the domain (0.5,0.5)\n",
    "        #this defines a potential at a point\n",
    "        \n",
    "        P=-jnp.exp(-(x-0.5)**2-(y-0.5)**2)\n",
    "        \n",
    "        return P\n",
    "    def gradP(self,x,y):\n",
    "        gradP=grad(potential)(x,y)\n",
    "        return gradP\n",
    "        \n",
    "    def step(self):\n",
    "        #gradP=u,v\n",
    "        u,v=gradP(self.x,self.y)\n",
    "        self.u=u+self.u\n",
    "        self.v=v+self.v\n",
    "        xnew=self.x+(self.u)*self.dt\n",
    "        ynew=self.y+(self.v)*self.dt\n",
    "        return(xnew,ynew)"
   ]
  },
  {
   "cell_type": "code",
   "execution_count": 17,
   "id": "268e9738",
   "metadata": {},
   "outputs": [],
   "source": [
    "particle1=particleSim(100,100,(0.1,0.1),1,(0.6,0.4),0.01)\n",
    "for t in np.linspace(0,100,)"
   ]
  },
  {
   "cell_type": "code",
   "execution_count": null,
   "id": "9e0aa43e",
   "metadata": {},
   "outputs": [],
   "source": []
  }
 ],
 "metadata": {
  "kernelspec": {
   "display_name": "Python 3 (ipykernel)",
   "language": "python",
   "name": "python3"
  },
  "language_info": {
   "codemirror_mode": {
    "name": "ipython",
    "version": 3
   },
   "file_extension": ".py",
   "mimetype": "text/x-python",
   "name": "python",
   "nbconvert_exporter": "python",
   "pygments_lexer": "ipython3",
   "version": "3.9.7"
  }
 },
 "nbformat": 4,
 "nbformat_minor": 5
}
